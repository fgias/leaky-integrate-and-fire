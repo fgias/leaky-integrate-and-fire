{
 "cells": [
  {
   "cell_type": "markdown",
   "metadata": {},
   "source": [
    "## Comparing Python to C++ speed"
   ]
  },
  {
   "cell_type": "code",
   "execution_count": 11,
   "metadata": {},
   "outputs": [],
   "source": [
    "import numpy as np\n",
    "import matplotlib.pyplot as plt\n",
    "\n",
    "N = 20\n",
    "R = 7\n",
    "sigma = 0.7\n",
    "mu = 1\n",
    "u_th = 0.98\n",
    "\n",
    "dt = 0.01\n",
    "\n",
    "u = np.random.rand(N)*u_th\n",
    "circles = np.zeros(N)\n",
    "\n",
    "t = 0\n",
    "time_max = 1000\n",
    "\n",
    "\n",
    "while t < time_max:\n",
    "    for i in range(N):\n",
    "        u[i] = u[i] + dt*(mu - u[i])\n",
    "        coupling = 0 # R <= N/2.\n",
    "        if i-R < 0:\n",
    "            for j in range((i-R)%N,N):\n",
    "                coupling = coupling + sigma*(u[i]-u[j])/(2*R)\n",
    "\n",
    "            for j in range(i+R+1):\n",
    "                coupling = coupling + sigma*(u[i]-u[j])/(2*R)\n",
    "\n",
    "            u[i] = u[i] + dt*coupling\n",
    "        elif i+R > N-1:\n",
    "            for j in range(i-R,N):\n",
    "                coupling = coupling + sigma*(u[i]-u[j])/(2*R)\n",
    "\n",
    "            for j in range((i+R)%N+1):\n",
    "                coupling = coupling + sigma*(u[i]-u[j])/(2*R)\n",
    "\n",
    "            u[i] = u[i] + dt*coupling\n",
    "        else: \n",
    "            for j in range(i-R,i+R+1):\n",
    "                coupling = coupling + sigma*(u[i]-u[j])/(2*R)\n",
    "\n",
    "            u[i] = u[i] + dt*coupling\n",
    "\n",
    "        if u[i] > u_th:\n",
    "            u[i] = 0\n",
    "            circles[i] += 1\n",
    "        \n",
    "    t = t + dt"
   ]
  },
  {
   "cell_type": "code",
   "execution_count": 12,
   "metadata": {},
   "outputs": [
    {
     "data": {
      "image/png": "[encoded data removed]",
      "text/plain": [
       "<Figure size 432x288 with 1 Axes>"
      ]
     },
     "metadata": {
      "needs_background": "light"
     },
     "output_type": "display_data"
    }
   ],
   "source": [
    "plt.scatter(range(1,N+1), u)\n",
    "plt.ylim([0, 1])\n",
    "plt.yticks([0, 0.5, 1])\n",
    "plt.ylabel(\"ui\")\n",
    "plt.xticks([1, N/2, N])\n",
    "plt.xlabel(\"index i\")\n",
    "plt.show()"
   ]
  },
  {
   "cell_type": "markdown",
   "metadata": {},
   "source": [
    "The execution times of the same code, with exactly the same parameters, in Python and C++:\n",
    "- Python: 19.1 s\n",
    "- C++: 0.7 s\n",
    "\n",
    "This is equivalent to $ \\approx 96\\%$ reduction in the execution time!"
   ]
  }
 ],
 "metadata": {
  "interpreter": {
   "hash": "9688926e0120c82bc45141654f06390cf5b07a9996c109707e80805420de038d"
  },
  "kernelspec": {
   "display_name": "Python 3.8.5 ('base')",
   "language": "python",
   "name": "python3"
  },
  "language_info": {
   "codemirror_mode": {
    "name": "ipython",
    "version": 3
   },
   "file_extension": ".py",
   "mimetype": "text/x-python",
   "name": "python",
   "nbconvert_exporter": "python",
   "pygments_lexer": "ipython3",
   "version": "3.9.7"
  },
  "orig_nbformat": 4
 },
 "nbformat": 4,
 "nbformat_minor": 2
}
